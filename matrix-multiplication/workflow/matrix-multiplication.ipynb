{
 "cells": [
  {
   "cell_type": "code",
   "execution_count": 1,
   "id": "cc7373f3-ae5a-4cd0-9daf-c4d80b3b92f3",
   "metadata": {},
   "outputs": [],
   "source": [
    "def multiply_pair(A, B):\n",
    "    import numpy as np  # Only on the worker\n",
    "    A_np = np.array(A, dtype=float)\n",
    "    B_np = np.array(B, dtype=float)\n",
    "    C_np = A_np @ B_np\n",
    "    return C_np.tolist()  # convert back to nested list\n"
   ]
  },
  {
   "cell_type": "code",
   "execution_count": 2,
   "id": "02a2b57d-96a6-4eda-b29f-973a995327d8",
   "metadata": {},
   "outputs": [
    {
     "name": "stdout",
     "output_type": "stream",
     "text": [
      "Manager name: floability-e47ef8c3-6c0c-40e2-907c-13b588393ef9\n"
     ]
    }
   ],
   "source": [
    "import os\n",
    "\n",
    "manager_name = api_key = os.environ.get(\"VINE_MANAGER_NAME\")\n",
    "print(f\"Manager name: {manager_name}\")"
   ]
  },
  {
   "cell_type": "code",
   "execution_count": 3,
   "id": "fd19d887-60d8-4be2-a7f2-5aca5883392f",
   "metadata": {},
   "outputs": [
    {
     "name": "stdout",
     "output_type": "stream",
     "text": [
      "[manager] Listening on port 9123\n",
      "[manager] Submitted multiplication for pair index 0.\n",
      "[manager] Submitted multiplication for pair index 1.\n",
      "[manager] Submitted multiplication for pair index 2.\n",
      "[manager] Submitted multiplication for pair index 3.\n",
      "[manager] Submitted multiplication for pair index 4.\n",
      "[manager] Submitted multiplication for pair index 5.\n",
      "[manager] Submitted multiplication for pair index 6.\n",
      "[manager] Submitted multiplication for pair index 7.\n",
      "[manager] Submitted multiplication for pair index 8.\n",
      "[manager] Submitted multiplication for pair index 9.\n",
      "[manager] Waiting for tasks to complete...\n",
      "[manager] Pair 4 -> result row0 length = 50\n",
      "[manager] Pair 6 -> result row0 length = 50\n",
      "[manager] Pair 1 -> result row0 length = 50\n",
      "[manager] Pair 9 -> result row0 length = 50\n",
      "[manager] Pair 0 -> result row0 length = 50\n",
      "[manager] Pair 5 -> result row0 length = 50\n",
      "[manager] Pair 7 -> result row0 length = 50\n",
      "[manager] Pair 8 -> result row0 length = 50\n",
      "[manager] Pair 2 -> result row0 length = 50\n",
      "[manager] Pair 3 -> result row0 length = 50\n",
      "\n",
      "[manager] All tasks done.\n"
     ]
    }
   ],
   "source": [
    "import random\n",
    "import ndcctools.taskvine as vine\n",
    "\n",
    "N = 50      # 50x50 matrices\n",
    "num_pairs = 10  # We'll do 10 pairs for demonstration\n",
    "\n",
    "A_list = []\n",
    "B_list = []\n",
    "\n",
    "for _ in range(num_pairs):\n",
    "    A_mat = [[random.random() for _ in range(N)] for _ in range(N)]\n",
    "    B_mat = [[random.random() for _ in range(N)] for _ in range(N)]\n",
    "    A_list.append(A_mat)\n",
    "    B_list.append(B_mat)\n",
    "\n",
    "m = vine.Manager([9123,9150], name=manager_name)\n",
    "\n",
    "print(f\"[manager] Listening on port {m.port}\")\n",
    "\n",
    "tasks_map = {}\n",
    "results = [None]*num_pairs\n",
    "\n",
    "for i in range(num_pairs):\n",
    "    task = vine.PythonTask(multiply_pair, A_list[i], B_list[i])\n",
    "    t_id = m.submit(task)\n",
    "    tasks_map[t_id] = i\n",
    "    print(f\"[manager] Submitted multiplication for pair index {i}.\")\n",
    "\n",
    "print(\"[manager] Waiting for tasks to complete...\")\n",
    "while not m.empty():\n",
    "    done_task = m.wait(5)\n",
    "    if done_task:\n",
    "        idx = tasks_map[done_task.id]\n",
    "        if done_task.successful():\n",
    "            C = done_task.output\n",
    "            results[idx] = C\n",
    "            print(f\"[manager] Pair {idx} -> result row0 length = {len(C[0])}\")\n",
    "        else:\n",
    "            print(f\"[manager] Task for pair {idx} failed: {done_task.result}\")\n",
    "\n",
    "print(\"\\n[manager] All tasks done.\")"
   ]
  }
 ],
 "metadata": {
  "kernelspec": {
   "display_name": "Python 3 (ipykernel)",
   "language": "python",
   "name": "python3"
  },
  "language_info": {
   "codemirror_mode": {
    "name": "ipython",
    "version": 3
   },
   "file_extension": ".py",
   "mimetype": "text/x-python",
   "name": "python",
   "nbconvert_exporter": "python",
   "pygments_lexer": "ipython3",
   "version": "3.13.2"
  }
 },
 "nbformat": 4,
 "nbformat_minor": 5
}
